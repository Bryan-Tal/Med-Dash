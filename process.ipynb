{
 "cells": [
  {
   "cell_type": "code",
   "execution_count": 13,
   "metadata": {},
   "outputs": [],
   "source": [
    "import pandas as pd\n",
    "import matplotlib.pyplot as plt\n",
    "cal_path = './src/vital_csvs/dataframe_calories_active.csv'\n",
    "dist_path = './src/vital_csvs/dataframe_distance.csv'\n",
    "heart_path = './src/vital_csvs/dataframe_heartrate.csv'\n",
    "steps_path = './src/vital_csvs/dataframe_steps.csv'"
   ]
  },
  {
   "cell_type": "code",
   "execution_count": 27,
   "metadata": {},
   "outputs": [],
   "source": [
    "def process_data(csv, kind):\n",
    "    if kind == \"calories\":\n",
    "        df = pd.read_csv(csv)\n",
    "        df.drop(columns=['id','timezone_offset','type'],inplace=True)\n",
    "        df['timestamp'] = pd.to_datetime(df['timestamp'].str.split(\"+\").str[0])\n",
    "        df['start'] = pd.to_datetime(df['start'].str.split(\"+\").str[0])\n",
    "        df['end'] = pd.to_datetime(df['end'].str.split(\"+\").str[0])\n",
    "        df.sort_values('timestamp')\n",
    "        return df\n",
    "    elif kind == \"distance\":\n",
    "        df = pd.read_csv(csv)\n",
    "        df.drop(columns=['id','timezone_offset','type'],inplace=True)\n",
    "        df['timestamp'] = pd.to_datetime(df['timestamp'].str.split(\"+\").str[0])\n",
    "        df['start'] = pd.to_datetime(df['start'].str.split(\"+\").str[0])\n",
    "        df['end'] = pd.to_datetime(df['end'].str.split(\"+\").str[0])\n",
    "        df.sort_values('timestamp')\n",
    "        return df\n",
    "    elif kind == \"heartrate\":\n",
    "        df = pd.read_csv(csv)\n",
    "        df.drop(columns=['id','timezone_offset','type'],inplace=True)\n",
    "        df['timestamp'] = pd.to_datetime(df['timestamp'].str.split(\"+\").str[0])\n",
    "        df.sort_values('timestamp')\n",
    "        return df\n",
    "    elif kind == \"steps\":\n",
    "        df = pd.read_csv(csv)\n",
    "        df.drop(columns=['id','timezone_offset','type'],inplace=True)\n",
    "        df['timestamp'] = pd.to_datetime(df['timestamp'].str.split(\"+\").str[0])\n",
    "        df['start'] = pd.to_datetime(df['start'].str.split(\"+\").str[0])\n",
    "        df['end'] = pd.to_datetime(df['end'].str.split(\"+\").str[0])\n",
    "        df.sort_values('timestamp')\n",
    "        return df\n",
    "    else:\n",
    "        raise LookupError(\"Invalid Data Type\")"
   ]
  },
  {
   "cell_type": "code",
   "execution_count": 28,
   "metadata": {},
   "outputs": [],
   "source": [
    "cal_df = process_data(cal_path,\"calories\")\n",
    "dist_df = process_data(dist_path,\"distance\")\n",
    "heart_df = process_data(heart_path,\"heartrate\")\n",
    "steps_df = process_data(steps_path,\"steps\")"
   ]
  },
  {
   "cell_type": "code",
   "execution_count": 29,
   "metadata": {},
   "outputs": [],
   "source": [
    "cal_df = cal_df.sort_values('timestamp')\n",
    "dist_df = dist_df.sort_values('timestamp')\n",
    "heart_df = heart_df.sort_values('timestamp')\n",
    "steps_df = steps_df.sort_values('timestamp')"
   ]
  },
  {
   "cell_type": "code",
   "execution_count": 39,
   "metadata": {},
   "outputs": [
    {
     "data": {
      "text/html": "<div>\n<style scoped>\n    .dataframe tbody tr th:only-of-type {\n        vertical-align: middle;\n    }\n\n    .dataframe tbody tr th {\n        vertical-align: top;\n    }\n\n    .dataframe thead th {\n        text-align: right;\n    }\n</style>\n<table border=\"1\" class=\"dataframe\">\n  <thead>\n    <tr style=\"text-align: right;\">\n      <th></th>\n      <th>unit</th>\n      <th>timestamp</th>\n      <th>value</th>\n    </tr>\n  </thead>\n  <tbody>\n    <tr>\n      <th>0</th>\n      <td>bpm</td>\n      <td>2023-11-10 00:20:37</td>\n      <td>85.0</td>\n    </tr>\n    <tr>\n      <th>1</th>\n      <td>bpm</td>\n      <td>2023-11-10 00:20:46</td>\n      <td>82.0</td>\n    </tr>\n    <tr>\n      <th>2</th>\n      <td>bpm</td>\n      <td>2023-11-10 00:21:12</td>\n      <td>79.0</td>\n    </tr>\n    <tr>\n      <th>3</th>\n      <td>bpm</td>\n      <td>2023-11-10 00:40:36</td>\n      <td>77.0</td>\n    </tr>\n    <tr>\n      <th>4</th>\n      <td>bpm</td>\n      <td>2023-11-10 00:40:39</td>\n      <td>84.0</td>\n    </tr>\n    <tr>\n      <th>...</th>\n      <td>...</td>\n      <td>...</td>\n      <td>...</td>\n    </tr>\n    <tr>\n      <th>2428</th>\n      <td>bpm</td>\n      <td>2023-11-17 23:41:35</td>\n      <td>80.0</td>\n    </tr>\n    <tr>\n      <th>2429</th>\n      <td>bpm</td>\n      <td>2023-11-17 23:46:39</td>\n      <td>81.0</td>\n    </tr>\n    <tr>\n      <th>2430</th>\n      <td>bpm</td>\n      <td>2023-11-17 23:46:57</td>\n      <td>83.0</td>\n    </tr>\n    <tr>\n      <th>2431</th>\n      <td>bpm</td>\n      <td>2023-11-17 23:47:09</td>\n      <td>86.0</td>\n    </tr>\n    <tr>\n      <th>2432</th>\n      <td>bpm</td>\n      <td>2023-11-17 23:47:32</td>\n      <td>82.0</td>\n    </tr>\n  </tbody>\n</table>\n<p>2433 rows × 3 columns</p>\n</div>",
      "text/plain": "     unit           timestamp  value\n0     bpm 2023-11-10 00:20:37   85.0\n1     bpm 2023-11-10 00:20:46   82.0\n2     bpm 2023-11-10 00:21:12   79.0\n3     bpm 2023-11-10 00:40:36   77.0\n4     bpm 2023-11-10 00:40:39   84.0\n...   ...                 ...    ...\n2428  bpm 2023-11-17 23:41:35   80.0\n2429  bpm 2023-11-17 23:46:39   81.0\n2430  bpm 2023-11-17 23:46:57   83.0\n2431  bpm 2023-11-17 23:47:09   86.0\n2432  bpm 2023-11-17 23:47:32   82.0\n\n[2433 rows x 3 columns]"
     },
     "execution_count": 39,
     "metadata": {},
     "output_type": "execute_result"
    }
   ],
   "source": [
    "heart_df"
   ]
  },
  {
   "cell_type": "code",
   "execution_count": 35,
   "metadata": {},
   "outputs": [
    {
     "data": {
      "image/png": "[encoded data removed]",
      "text/plain": "<Figure size 432x288 with 1 Axes>"
     },
     "metadata": {
      "needs_background": "light"
     },
     "output_type": "display_data"
    }
   ],
   "source": [
    "plt.plot(cal_df['timestamp'],cal_df['value'])\n",
    "plt.plot(dist_df['timestamp'],dist_df['value'])\n",
    "plt.plot(heart_df['timestamp'],heart_df['value'])\n",
    "plt.plot(steps_df['timestamp'],steps_df['value'])\n",
    "plt.show()"
   ]
  },
  {
   "cell_type": "code",
   "execution_count": 47,
   "metadata": {},
   "outputs": [
    {
     "name": "stdout",
     "output_type": "stream",
     "text": [
      "calories\n",
      "distance\n",
      "heartrate\n",
      "steps\n"
     ]
    }
   ],
   "source": [
    "data = [cal_df,dist_df,heart_df,steps_df]\n",
    "d2 = ['calories','distance','heartrate','steps']\n",
    "for i in enumerate(data):\n",
    "    print(d2[i[0]])\n",
    "    filename = f'src/vital_csvs/analysis_dataframe_{d2[i[0]]}.csv'\n",
    "    i[1].to_csv(filename,index=False)\n"
   ]
  }
 ],
 "metadata": {
  "kernelspec": {
   "display_name": "Python 3.10.4 64-bit",
   "metadata": {
    "interpreter": {
     "hash": "98590ff4fe04c8543246b2a01debd3de3c5ca9b666f43f1fa87d5110c692004c"
    }
   },
   "name": "python3"
  },
  "language_info": {
   "codemirror_mode": {
    "name": "ipython",
    "version": 3
   },
   "file_extension": ".py",
   "mimetype": "text/x-python",
   "name": "python",
   "nbconvert_exporter": "python",
   "pygments_lexer": "ipython3",
   "version": "3.10.4"
  },
  "orig_nbformat": 2
 },
 "nbformat": 4,
 "nbformat_minor": 2
}